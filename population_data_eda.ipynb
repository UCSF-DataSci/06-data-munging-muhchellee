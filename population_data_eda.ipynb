{
 "cells": [
  {
   "cell_type": "code",
   "execution_count": 3,
   "metadata": {},
   "outputs": [
    {
     "data": {
      "text/html": [
       "<div>\n",
       "<style scoped>\n",
       "    .dataframe tbody tr th:only-of-type {\n",
       "        vertical-align: middle;\n",
       "    }\n",
       "\n",
       "    .dataframe tbody tr th {\n",
       "        vertical-align: top;\n",
       "    }\n",
       "\n",
       "    .dataframe thead th {\n",
       "        text-align: right;\n",
       "    }\n",
       "</style>\n",
       "<table border=\"1\" class=\"dataframe\">\n",
       "  <thead>\n",
       "    <tr style=\"text-align: right;\">\n",
       "      <th></th>\n",
       "      <th>income_groups</th>\n",
       "      <th>age</th>\n",
       "      <th>gender</th>\n",
       "      <th>year</th>\n",
       "      <th>population</th>\n",
       "    </tr>\n",
       "  </thead>\n",
       "  <tbody>\n",
       "    <tr>\n",
       "      <th>0</th>\n",
       "      <td>high_income</td>\n",
       "      <td>0.0</td>\n",
       "      <td>1.0</td>\n",
       "      <td>1950.0</td>\n",
       "      <td>7798286.0</td>\n",
       "    </tr>\n",
       "    <tr>\n",
       "      <th>1</th>\n",
       "      <td>high_income</td>\n",
       "      <td>0.0</td>\n",
       "      <td>1.0</td>\n",
       "      <td>1951.0</td>\n",
       "      <td>7739711.0</td>\n",
       "    </tr>\n",
       "    <tr>\n",
       "      <th>2</th>\n",
       "      <td>high_income</td>\n",
       "      <td>0.0</td>\n",
       "      <td>3.0</td>\n",
       "      <td>1952.0</td>\n",
       "      <td>7713905.0</td>\n",
       "    </tr>\n",
       "    <tr>\n",
       "      <th>3</th>\n",
       "      <td>high_income</td>\n",
       "      <td>0.0</td>\n",
       "      <td>1.0</td>\n",
       "      <td>1953.0</td>\n",
       "      <td>7722053.0</td>\n",
       "    </tr>\n",
       "    <tr>\n",
       "      <th>4</th>\n",
       "      <td>high_income</td>\n",
       "      <td>0.0</td>\n",
       "      <td>1.0</td>\n",
       "      <td>1954.0</td>\n",
       "      <td>7756149.0</td>\n",
       "    </tr>\n",
       "  </tbody>\n",
       "</table>\n",
       "</div>"
      ],
      "text/plain": [
       "  income_groups  age  gender    year  population\n",
       "0   high_income  0.0     1.0  1950.0   7798286.0\n",
       "1   high_income  0.0     1.0  1951.0   7739711.0\n",
       "2   high_income  0.0     3.0  1952.0   7713905.0\n",
       "3   high_income  0.0     1.0  1953.0   7722053.0\n",
       "4   high_income  0.0     1.0  1954.0   7756149.0"
      ]
     },
     "execution_count": 3,
     "metadata": {},
     "output_type": "execute_result"
    }
   ],
   "source": [
    "import pandas as pd\n",
    "messy_data = pd.read_csv('messy_population_data.csv')"
   ]
  },
  {
   "cell_type": "code",
   "execution_count": 79,
   "metadata": {},
   "outputs": [
    {
     "name": "stdout",
     "output_type": "stream",
     "text": [
      "<class 'pandas.core.frame.DataFrame'>\n",
      "RangeIndex: 125718 entries, 0 to 125717\n",
      "Data columns (total 5 columns):\n",
      " #   Column         Non-Null Count   Dtype  \n",
      "---  ------         --------------   -----  \n",
      " 0   income_groups  119412 non-null  object \n",
      " 1   age            119495 non-null  float64\n",
      " 2   gender         119811 non-null  float64\n",
      " 3   year           119516 non-null  float64\n",
      " 4   population     119378 non-null  float64\n",
      "dtypes: float64(4), object(1)\n",
      "memory usage: 4.8+ MB\n"
     ]
    }
   ],
   "source": [
    "# checking overall structure\n",
    "messy_data.info()"
   ]
  },
  {
   "cell_type": "code",
   "execution_count": 20,
   "metadata": {},
   "outputs": [
    {
     "data": {
      "text/plain": [
       "income_groups         8\n",
       "age                 101\n",
       "gender                3\n",
       "year                169\n",
       "population       114925\n",
       "dtype: int64"
      ]
     },
     "execution_count": 20,
     "metadata": {},
     "output_type": "execute_result"
    }
   ],
   "source": [
    "# num of unique values per column\n",
    "messy_data.nunique()"
   ]
  },
  {
   "cell_type": "code",
   "execution_count": 13,
   "metadata": {},
   "outputs": [
    {
     "data": {
      "text/html": [
       "<div>\n",
       "<style scoped>\n",
       "    .dataframe tbody tr th:only-of-type {\n",
       "        vertical-align: middle;\n",
       "    }\n",
       "\n",
       "    .dataframe tbody tr th {\n",
       "        vertical-align: top;\n",
       "    }\n",
       "\n",
       "    .dataframe thead th {\n",
       "        text-align: right;\n",
       "    }\n",
       "</style>\n",
       "<table border=\"1\" class=\"dataframe\">\n",
       "  <thead>\n",
       "    <tr style=\"text-align: right;\">\n",
       "      <th></th>\n",
       "      <th>age</th>\n",
       "      <th>gender</th>\n",
       "      <th>year</th>\n",
       "      <th>population</th>\n",
       "    </tr>\n",
       "  </thead>\n",
       "  <tbody>\n",
       "    <tr>\n",
       "      <th>count</th>\n",
       "      <td>119495.000000</td>\n",
       "      <td>119811.000000</td>\n",
       "      <td>119516.000000</td>\n",
       "      <td>1.193780e+05</td>\n",
       "    </tr>\n",
       "    <tr>\n",
       "      <th>mean</th>\n",
       "      <td>50.007038</td>\n",
       "      <td>1.578578</td>\n",
       "      <td>2025.068049</td>\n",
       "      <td>1.112983e+08</td>\n",
       "    </tr>\n",
       "    <tr>\n",
       "      <th>std</th>\n",
       "      <td>29.154144</td>\n",
       "      <td>0.590559</td>\n",
       "      <td>43.584951</td>\n",
       "      <td>1.265205e+09</td>\n",
       "    </tr>\n",
       "    <tr>\n",
       "      <th>min</th>\n",
       "      <td>0.000000</td>\n",
       "      <td>1.000000</td>\n",
       "      <td>1950.000000</td>\n",
       "      <td>2.100000e+01</td>\n",
       "    </tr>\n",
       "    <tr>\n",
       "      <th>25%</th>\n",
       "      <td>25.000000</td>\n",
       "      <td>1.000000</td>\n",
       "      <td>1987.000000</td>\n",
       "      <td>2.316023e+06</td>\n",
       "    </tr>\n",
       "    <tr>\n",
       "      <th>50%</th>\n",
       "      <td>50.000000</td>\n",
       "      <td>2.000000</td>\n",
       "      <td>2025.000000</td>\n",
       "      <td>7.145754e+06</td>\n",
       "    </tr>\n",
       "    <tr>\n",
       "      <th>75%</th>\n",
       "      <td>75.000000</td>\n",
       "      <td>2.000000</td>\n",
       "      <td>2063.000000</td>\n",
       "      <td>1.466388e+07</td>\n",
       "    </tr>\n",
       "    <tr>\n",
       "      <th>max</th>\n",
       "      <td>100.000000</td>\n",
       "      <td>3.000000</td>\n",
       "      <td>2119.000000</td>\n",
       "      <td>3.293043e+10</td>\n",
       "    </tr>\n",
       "  </tbody>\n",
       "</table>\n",
       "</div>"
      ],
      "text/plain": [
       "                 age         gender           year    population\n",
       "count  119495.000000  119811.000000  119516.000000  1.193780e+05\n",
       "mean       50.007038       1.578578    2025.068049  1.112983e+08\n",
       "std        29.154144       0.590559      43.584951  1.265205e+09\n",
       "min         0.000000       1.000000    1950.000000  2.100000e+01\n",
       "25%        25.000000       1.000000    1987.000000  2.316023e+06\n",
       "50%        50.000000       2.000000    2025.000000  7.145754e+06\n",
       "75%        75.000000       2.000000    2063.000000  1.466388e+07\n",
       "max       100.000000       3.000000    2119.000000  3.293043e+10"
      ]
     },
     "execution_count": 13,
     "metadata": {},
     "output_type": "execute_result"
    }
   ],
   "source": [
    "# basic statistical summary\n",
    "messy_data.describe()"
   ]
  },
  {
   "cell_type": "code",
   "execution_count": 35,
   "metadata": {},
   "outputs": [
    {
     "name": "stdout",
     "output_type": "stream",
     "text": [
      "Proportion of income_groups:\n",
      "income_groups\n",
      "low_income                  23.810840\n",
      "upper_middle_income         23.744682\n",
      "high_income                 23.735470\n",
      "lower_middle_income         23.718722\n",
      "lower_middle_income_typo     1.270392\n",
      "low_income_typo              1.260342\n",
      "high_income_typo             1.235219\n",
      "upper_middle_income_typo     1.224333\n",
      "Name: proportion, dtype: float64\n",
      "\n",
      "Proportion of gender:\n",
      "gender\n",
      "1.0    47.388804\n",
      "2.0    47.364599\n",
      "3.0     5.246597\n",
      "Name: proportion, dtype: float64\n"
     ]
    }
   ],
   "source": [
    "# income group proportion\n",
    "income_group_proportion = messy_data['income_groups'].value_counts(normalize=True) * 100\n",
    "print(\"Proportion of income_groups:\")\n",
    "print(income_group_proportion)\n",
    "\n",
    "# gender proportion\n",
    "gender_proportion = messy_data['gender'].value_counts(normalize=True) * 100\n",
    "print(\"\\nProportion of gender:\")\n",
    "print(gender_proportion)\n"
   ]
  },
  {
   "cell_type": "code",
   "execution_count": 78,
   "metadata": {},
   "outputs": [
    {
     "name": "stdout",
     "output_type": "stream",
     "text": [
      "Num of duplicated rows: 2950\n",
      "       income_groups  age  gender    year  population\n",
      "138      high_income  0.0     1.0  2088.0   5657492.0\n",
      "124472   high_income  0.0     1.0  2088.0   5657492.0\n"
     ]
    }
   ],
   "source": [
    "# number of duplicates \n",
    "print(\"Num of duplicated rows:\", messy_data.duplicated().sum())\n",
    "\n",
    "# looking at which rows are duplicated\n",
    "duplicates = messy_data.duplicated(keep=False)\n",
    "duplicate_indices = messy_data[duplicates].index\n",
    "\n",
    "#print(duplicate_indices.tolist()[:5])\n",
    "\n",
    "index_of_interest = 138\n",
    "row_of_interest = messy_data.loc[index_of_interest]\n",
    "duplicates = messy_data[messy_data.eq(row_of_interest).all(axis=1)]\n",
    "\n",
    "print(duplicates)\n"
   ]
  },
  {
   "cell_type": "code",
   "execution_count": 76,
   "metadata": {},
   "outputs": [
    {
     "name": "stdout",
     "output_type": "stream",
     "text": [
      "\n",
      "Num of missing values per column: \n",
      "income_groups    6306\n",
      "age              6223\n",
      "gender           5907\n",
      "year             6202\n",
      "population       6340\n",
      "dtype: int64\n"
     ]
    }
   ],
   "source": [
    "# missing values\n",
    "print(\"\\nNum of missing values per column: \")\n",
    "print(messy_data.isnull().sum())"
   ]
  },
  {
   "cell_type": "code",
   "execution_count": 61,
   "metadata": {},
   "outputs": [
    {
     "name": "stdout",
     "output_type": "stream",
     "text": [
      "Num of outliers in population column: 2252\n",
      "33185676.75\n"
     ]
    }
   ],
   "source": [
    "# identifying potential outliers\n",
    "Q1 = messy_data['population'].quantile(0.25)\n",
    "Q3 = messy_data['population'].quantile(0.75)\n",
    "IQR = Q3 - Q1\n",
    "\n",
    "lower_bound = Q1 - 1.5 * IQR\n",
    "upper_bound = Q3 + 1.5 * IQR\n",
    "\n",
    "outliers = messy_data[(messy_data['population'] < lower_bound) | (messy_data['population'] > upper_bound)]\n",
    "\n",
    "print(\"Num of outliers in population column:\", outliers.shape[0])"
   ]
  }
 ],
 "metadata": {
  "kernelspec": {
   "display_name": "Python 3",
   "language": "python",
   "name": "python3"
  },
  "language_info": {
   "codemirror_mode": {
    "name": "ipython",
    "version": 3
   },
   "file_extension": ".py",
   "mimetype": "text/x-python",
   "name": "python",
   "nbconvert_exporter": "python",
   "pygments_lexer": "ipython3",
   "version": "3.12.4"
  }
 },
 "nbformat": 4,
 "nbformat_minor": 2
}
